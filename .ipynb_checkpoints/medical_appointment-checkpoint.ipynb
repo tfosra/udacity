{
 "cells": [
  {
   "cell_type": "markdown",
   "metadata": {},
   "source": [
    "# Projet: Rendez-vous médicaux\n",
    "\n",
    "## Table des matières\n",
    "<ul>\n",
    "<li><a href=\"#intro\">Introduction</a></li>\n",
    "<li><a href=\"#wrangling\">Préparation des données</a></li>\n",
    "<li><a href=\"#eda\">Analyse Exploratoire des données</a></li>\n",
    "<li><a href=\"#conclusions\">Conclusions</a></li>\n",
    "</ul>"
   ]
  },
  {
   "cell_type": "markdown",
   "metadata": {},
   "source": [
    "<a id='intro'></a>\n",
    "## Introduction\n",
    "\n",
    "### Contexte\n",
    "\n",
    "L'ensemble des données utilisé regroupe des informations sur environ 100 000 rendez-vous médicaux enregistrés au Brésil et s'intéresse principalement à la question de savoir si les patients se sont présentés ou non à leur rendez-vous comme prévu. Ces données ont été tirées de l'analyse décrite sur le site de [Kaggle](https://www.kaggle.com/joniarroba/noshowappointments)\n",
    "\n",
    "Pour chacun des rendez-vous médicaux enregistrés, les données exploitées renseignent entre autres sur le sexe du patient, sa date de rendez-vous prévue ainsi que la date d'enregistrement du rendez-vous, son age, son lieu de rendez-vous ainsi que d'autres paramètres médicaux et physiologiques (patient diabétique, alcoolique, hypertendu, handicapé, etc.). Enfin la source de données précise à chaque fois si le patient s'est présenté à son rendez-vous ou pas.\n",
    "\n",
    "### Problématique\n",
    "\n",
    "Pour un meilleur suivi des rendez-vous médicaux dans le futur, on aimerait bien savoir les principales raisons pour lesquelles les patients manquent leurs rendez-vous médicaux.\n",
    "\n",
    "On se pose donc les questions suivantes :\n",
    "\n",
    "- Quels sont les principaux paramètres des patients qui pourraient influencer sur le respect des dates de rendez-vous ?\n",
    "- L'envoi des SMS aux patients est-il efficace ?\n",
    "- Les patients bénéficiant des aides sociales (Bolsa Família) prennent-ils généralement au serieux leurs rendez-medicaux ?\n",
    "- Les répartitions des rendez-vous médicaux dans la semaine ont-ils un impact sur les absences des patients ?\n",
    "- Quelles sont les principales zones géographiques où les patients sont plus susceptibles de manquer leur rendez-vous médical ?"
   ]
  },
  {
   "cell_type": "markdown",
   "metadata": {},
   "source": [
    "### Importation des bibliothèques"
   ]
  },
  {
   "cell_type": "code",
   "execution_count": 1,
   "metadata": {},
   "outputs": [],
   "source": [
    "import pandas as pd\n",
    "import matplotlib.pyplot as plt\n",
    "import seaborn as sns\n",
    "\n",
    "%matplotlib inline"
   ]
  },
  {
   "cell_type": "markdown",
   "metadata": {},
   "source": [
    "<a id='wrangling'></a>\n",
    "## Préparation des données\n",
    "\n",
    "Dans cette section, nous allons charger nos données depuis le fichier source _medical_appointment_data.csv_. Par la suite, nous effectuer évaluer ces données et les nettoyer pour une meilleure manipulation et analyse plus tard.\n",
    "\n",
    "### Chargement des données\n",
    "Procédons dans un premier temps au chargement de notre fichier de données"
   ]
  },
  {
   "cell_type": "code",
   "execution_count": 2,
   "metadata": {},
   "outputs": [
    {
     "data": {
      "text/html": [
       "<div>\n",
       "<style scoped>\n",
       "    .dataframe tbody tr th:only-of-type {\n",
       "        vertical-align: middle;\n",
       "    }\n",
       "\n",
       "    .dataframe tbody tr th {\n",
       "        vertical-align: top;\n",
       "    }\n",
       "\n",
       "    .dataframe thead th {\n",
       "        text-align: right;\n",
       "    }\n",
       "</style>\n",
       "<table border=\"1\" class=\"dataframe\">\n",
       "  <thead>\n",
       "    <tr style=\"text-align: right;\">\n",
       "      <th></th>\n",
       "      <th>PatientId</th>\n",
       "      <th>AppointmentID</th>\n",
       "      <th>Gender</th>\n",
       "      <th>ScheduledDay</th>\n",
       "      <th>AppointmentDay</th>\n",
       "      <th>Age</th>\n",
       "      <th>Neighbourhood</th>\n",
       "      <th>Scholarship</th>\n",
       "      <th>Hipertension</th>\n",
       "      <th>Diabetes</th>\n",
       "      <th>Alcoholism</th>\n",
       "      <th>Handcap</th>\n",
       "      <th>SMS_received</th>\n",
       "      <th>No-show</th>\n",
       "    </tr>\n",
       "  </thead>\n",
       "  <tbody>\n",
       "    <tr>\n",
       "      <th>0</th>\n",
       "      <td>2.987250e+13</td>\n",
       "      <td>5642903</td>\n",
       "      <td>F</td>\n",
       "      <td>2016-04-29T18:38:08Z</td>\n",
       "      <td>2016-04-29T00:00:00Z</td>\n",
       "      <td>62</td>\n",
       "      <td>JARDIM DA PENHA</td>\n",
       "      <td>0</td>\n",
       "      <td>1</td>\n",
       "      <td>0</td>\n",
       "      <td>0</td>\n",
       "      <td>0</td>\n",
       "      <td>0</td>\n",
       "      <td>No</td>\n",
       "    </tr>\n",
       "    <tr>\n",
       "      <th>1</th>\n",
       "      <td>5.589978e+14</td>\n",
       "      <td>5642503</td>\n",
       "      <td>M</td>\n",
       "      <td>2016-04-29T16:08:27Z</td>\n",
       "      <td>2016-04-29T00:00:00Z</td>\n",
       "      <td>56</td>\n",
       "      <td>JARDIM DA PENHA</td>\n",
       "      <td>0</td>\n",
       "      <td>0</td>\n",
       "      <td>0</td>\n",
       "      <td>0</td>\n",
       "      <td>0</td>\n",
       "      <td>0</td>\n",
       "      <td>No</td>\n",
       "    </tr>\n",
       "    <tr>\n",
       "      <th>2</th>\n",
       "      <td>4.262962e+12</td>\n",
       "      <td>5642549</td>\n",
       "      <td>F</td>\n",
       "      <td>2016-04-29T16:19:04Z</td>\n",
       "      <td>2016-04-29T00:00:00Z</td>\n",
       "      <td>62</td>\n",
       "      <td>MATA DA PRAIA</td>\n",
       "      <td>0</td>\n",
       "      <td>0</td>\n",
       "      <td>0</td>\n",
       "      <td>0</td>\n",
       "      <td>0</td>\n",
       "      <td>0</td>\n",
       "      <td>No</td>\n",
       "    </tr>\n",
       "    <tr>\n",
       "      <th>3</th>\n",
       "      <td>8.679512e+11</td>\n",
       "      <td>5642828</td>\n",
       "      <td>F</td>\n",
       "      <td>2016-04-29T17:29:31Z</td>\n",
       "      <td>2016-04-29T00:00:00Z</td>\n",
       "      <td>8</td>\n",
       "      <td>PONTAL DE CAMBURI</td>\n",
       "      <td>0</td>\n",
       "      <td>0</td>\n",
       "      <td>0</td>\n",
       "      <td>0</td>\n",
       "      <td>0</td>\n",
       "      <td>0</td>\n",
       "      <td>No</td>\n",
       "    </tr>\n",
       "    <tr>\n",
       "      <th>4</th>\n",
       "      <td>8.841186e+12</td>\n",
       "      <td>5642494</td>\n",
       "      <td>F</td>\n",
       "      <td>2016-04-29T16:07:23Z</td>\n",
       "      <td>2016-04-29T00:00:00Z</td>\n",
       "      <td>56</td>\n",
       "      <td>JARDIM DA PENHA</td>\n",
       "      <td>0</td>\n",
       "      <td>1</td>\n",
       "      <td>1</td>\n",
       "      <td>0</td>\n",
       "      <td>0</td>\n",
       "      <td>0</td>\n",
       "      <td>No</td>\n",
       "    </tr>\n",
       "  </tbody>\n",
       "</table>\n",
       "</div>"
      ],
      "text/plain": [
       "      PatientId  AppointmentID Gender          ScheduledDay  \\\n",
       "0  2.987250e+13        5642903      F  2016-04-29T18:38:08Z   \n",
       "1  5.589978e+14        5642503      M  2016-04-29T16:08:27Z   \n",
       "2  4.262962e+12        5642549      F  2016-04-29T16:19:04Z   \n",
       "3  8.679512e+11        5642828      F  2016-04-29T17:29:31Z   \n",
       "4  8.841186e+12        5642494      F  2016-04-29T16:07:23Z   \n",
       "\n",
       "         AppointmentDay  Age      Neighbourhood  Scholarship  Hipertension  \\\n",
       "0  2016-04-29T00:00:00Z   62    JARDIM DA PENHA            0             1   \n",
       "1  2016-04-29T00:00:00Z   56    JARDIM DA PENHA            0             0   \n",
       "2  2016-04-29T00:00:00Z   62      MATA DA PRAIA            0             0   \n",
       "3  2016-04-29T00:00:00Z    8  PONTAL DE CAMBURI            0             0   \n",
       "4  2016-04-29T00:00:00Z   56    JARDIM DA PENHA            0             1   \n",
       "\n",
       "   Diabetes  Alcoholism  Handcap  SMS_received No-show  \n",
       "0         0           0        0             0      No  \n",
       "1         0           0        0             0      No  \n",
       "2         0           0        0             0      No  \n",
       "3         0           0        0             0      No  \n",
       "4         1           0        0             0      No  "
      ]
     },
     "execution_count": 2,
     "metadata": {},
     "output_type": "execute_result"
    }
   ],
   "source": [
    "# Chargement des données et affichage des 5 premières lignes\n",
    "\n",
    "df = pd.read_csv('medical_appointment_data.csv')\n",
    "df.head()"
   ]
  },
  {
   "cell_type": "markdown",
   "metadata": {},
   "source": [
    "### Évaluation de notre ensemble de données\n",
    "\n",
    "Procédons à présent à l'évaluation de notre ensemble de données pour détecter d'éventuels problèmes sur ces dernières."
   ]
  },
  {
   "cell_type": "code",
   "execution_count": 3,
   "metadata": {},
   "outputs": [
    {
     "data": {
      "text/plain": [
       "(110527, 14)"
      ]
     },
     "execution_count": 3,
     "metadata": {},
     "output_type": "execute_result"
    }
   ],
   "source": [
    "# Évaluation de la dimension des données\n",
    "\n",
    "df.shape"
   ]
  },
  {
   "cell_type": "markdown",
   "metadata": {},
   "source": [
    "Notre ensemble de données contient __110 527__ enregistrements répartis sur __14__ colonnes."
   ]
  },
  {
   "cell_type": "code",
   "execution_count": 4,
   "metadata": {},
   "outputs": [
    {
     "data": {
      "text/plain": [
       "Index(['PatientId', 'AppointmentID', 'Gender', 'ScheduledDay',\n",
       "       'AppointmentDay', 'Age', 'Neighbourhood', 'Scholarship', 'Hipertension',\n",
       "       'Diabetes', 'Alcoholism', 'Handcap', 'SMS_received', 'No-show'],\n",
       "      dtype='object')"
      ]
     },
     "execution_count": 4,
     "metadata": {},
     "output_type": "execute_result"
    }
   ],
   "source": [
    "# Liste des colonnes\n",
    "\n",
    "df.columns"
   ]
  },
  {
   "cell_type": "markdown",
   "metadata": {},
   "source": [
    "Les 14 colonnes ont des noms qui ne sont pas uniformes et qui ne faciliteront pas la manipulation. Nous procéderons à leur renommage plus tard pour les transformer en minuscule et utiliser le séparateur _ pour les mots composés. Par ailleurs, certains noms sont mal libellés (_Hipertension, Handcap_)"
   ]
  },
  {
   "cell_type": "code",
   "execution_count": 5,
   "metadata": {
    "scrolled": true
   },
   "outputs": [
    {
     "data": {
      "text/plain": [
       "PatientId         float64\n",
       "AppointmentID       int64\n",
       "Gender             object\n",
       "ScheduledDay       object\n",
       "AppointmentDay     object\n",
       "Age                 int64\n",
       "Neighbourhood      object\n",
       "Scholarship         int64\n",
       "Hipertension        int64\n",
       "Diabetes            int64\n",
       "Alcoholism          int64\n",
       "Handcap             int64\n",
       "SMS_received        int64\n",
       "No-show            object\n",
       "dtype: object"
      ]
     },
     "execution_count": 5,
     "metadata": {},
     "output_type": "execute_result"
    }
   ],
   "source": [
    "# Types de données des colonnes\n",
    "\n",
    "df.dtypes"
   ]
  },
  {
   "cell_type": "markdown",
   "metadata": {},
   "source": [
    "Les colonnes relatives aux jours/heures des rendez-vous sont de type Chaines de caractères et devrons être transformées en Datetime pour une meilleure manipulation. Procédons à présent à une évaluation des contenus de nos différentes colonnes."
   ]
  },
  {
   "cell_type": "markdown",
   "metadata": {},
   "source": [
    "#### Description des données"
   ]
  },
  {
   "cell_type": "code",
   "execution_count": 6,
   "metadata": {
    "scrolled": false
   },
   "outputs": [
    {
     "data": {
      "text/html": [
       "<div>\n",
       "<style scoped>\n",
       "    .dataframe tbody tr th:only-of-type {\n",
       "        vertical-align: middle;\n",
       "    }\n",
       "\n",
       "    .dataframe tbody tr th {\n",
       "        vertical-align: top;\n",
       "    }\n",
       "\n",
       "    .dataframe thead th {\n",
       "        text-align: right;\n",
       "    }\n",
       "</style>\n",
       "<table border=\"1\" class=\"dataframe\">\n",
       "  <thead>\n",
       "    <tr style=\"text-align: right;\">\n",
       "      <th></th>\n",
       "      <th>PatientId</th>\n",
       "      <th>AppointmentID</th>\n",
       "      <th>Age</th>\n",
       "      <th>Scholarship</th>\n",
       "      <th>Hipertension</th>\n",
       "      <th>Diabetes</th>\n",
       "      <th>Alcoholism</th>\n",
       "      <th>Handcap</th>\n",
       "      <th>SMS_received</th>\n",
       "    </tr>\n",
       "  </thead>\n",
       "  <tbody>\n",
       "    <tr>\n",
       "      <th>count</th>\n",
       "      <td>1.105270e+05</td>\n",
       "      <td>1.105270e+05</td>\n",
       "      <td>110527.000000</td>\n",
       "      <td>110527.000000</td>\n",
       "      <td>110527.000000</td>\n",
       "      <td>110527.000000</td>\n",
       "      <td>110527.000000</td>\n",
       "      <td>110527.000000</td>\n",
       "      <td>110527.000000</td>\n",
       "    </tr>\n",
       "    <tr>\n",
       "      <th>mean</th>\n",
       "      <td>1.474963e+14</td>\n",
       "      <td>5.675305e+06</td>\n",
       "      <td>37.088874</td>\n",
       "      <td>0.098266</td>\n",
       "      <td>0.197246</td>\n",
       "      <td>0.071865</td>\n",
       "      <td>0.030400</td>\n",
       "      <td>0.022248</td>\n",
       "      <td>0.321026</td>\n",
       "    </tr>\n",
       "    <tr>\n",
       "      <th>std</th>\n",
       "      <td>2.560949e+14</td>\n",
       "      <td>7.129575e+04</td>\n",
       "      <td>23.110205</td>\n",
       "      <td>0.297675</td>\n",
       "      <td>0.397921</td>\n",
       "      <td>0.258265</td>\n",
       "      <td>0.171686</td>\n",
       "      <td>0.161543</td>\n",
       "      <td>0.466873</td>\n",
       "    </tr>\n",
       "    <tr>\n",
       "      <th>min</th>\n",
       "      <td>3.921784e+04</td>\n",
       "      <td>5.030230e+06</td>\n",
       "      <td>-1.000000</td>\n",
       "      <td>0.000000</td>\n",
       "      <td>0.000000</td>\n",
       "      <td>0.000000</td>\n",
       "      <td>0.000000</td>\n",
       "      <td>0.000000</td>\n",
       "      <td>0.000000</td>\n",
       "    </tr>\n",
       "    <tr>\n",
       "      <th>25%</th>\n",
       "      <td>4.172614e+12</td>\n",
       "      <td>5.640286e+06</td>\n",
       "      <td>18.000000</td>\n",
       "      <td>0.000000</td>\n",
       "      <td>0.000000</td>\n",
       "      <td>0.000000</td>\n",
       "      <td>0.000000</td>\n",
       "      <td>0.000000</td>\n",
       "      <td>0.000000</td>\n",
       "    </tr>\n",
       "    <tr>\n",
       "      <th>50%</th>\n",
       "      <td>3.173184e+13</td>\n",
       "      <td>5.680573e+06</td>\n",
       "      <td>37.000000</td>\n",
       "      <td>0.000000</td>\n",
       "      <td>0.000000</td>\n",
       "      <td>0.000000</td>\n",
       "      <td>0.000000</td>\n",
       "      <td>0.000000</td>\n",
       "      <td>0.000000</td>\n",
       "    </tr>\n",
       "    <tr>\n",
       "      <th>75%</th>\n",
       "      <td>9.439172e+13</td>\n",
       "      <td>5.725524e+06</td>\n",
       "      <td>55.000000</td>\n",
       "      <td>0.000000</td>\n",
       "      <td>0.000000</td>\n",
       "      <td>0.000000</td>\n",
       "      <td>0.000000</td>\n",
       "      <td>0.000000</td>\n",
       "      <td>1.000000</td>\n",
       "    </tr>\n",
       "    <tr>\n",
       "      <th>max</th>\n",
       "      <td>9.999816e+14</td>\n",
       "      <td>5.790484e+06</td>\n",
       "      <td>115.000000</td>\n",
       "      <td>1.000000</td>\n",
       "      <td>1.000000</td>\n",
       "      <td>1.000000</td>\n",
       "      <td>1.000000</td>\n",
       "      <td>4.000000</td>\n",
       "      <td>1.000000</td>\n",
       "    </tr>\n",
       "  </tbody>\n",
       "</table>\n",
       "</div>"
      ],
      "text/plain": [
       "          PatientId  AppointmentID            Age    Scholarship  \\\n",
       "count  1.105270e+05   1.105270e+05  110527.000000  110527.000000   \n",
       "mean   1.474963e+14   5.675305e+06      37.088874       0.098266   \n",
       "std    2.560949e+14   7.129575e+04      23.110205       0.297675   \n",
       "min    3.921784e+04   5.030230e+06      -1.000000       0.000000   \n",
       "25%    4.172614e+12   5.640286e+06      18.000000       0.000000   \n",
       "50%    3.173184e+13   5.680573e+06      37.000000       0.000000   \n",
       "75%    9.439172e+13   5.725524e+06      55.000000       0.000000   \n",
       "max    9.999816e+14   5.790484e+06     115.000000       1.000000   \n",
       "\n",
       "        Hipertension       Diabetes     Alcoholism        Handcap  \\\n",
       "count  110527.000000  110527.000000  110527.000000  110527.000000   \n",
       "mean        0.197246       0.071865       0.030400       0.022248   \n",
       "std         0.397921       0.258265       0.171686       0.161543   \n",
       "min         0.000000       0.000000       0.000000       0.000000   \n",
       "25%         0.000000       0.000000       0.000000       0.000000   \n",
       "50%         0.000000       0.000000       0.000000       0.000000   \n",
       "75%         0.000000       0.000000       0.000000       0.000000   \n",
       "max         1.000000       1.000000       1.000000       4.000000   \n",
       "\n",
       "        SMS_received  \n",
       "count  110527.000000  \n",
       "mean        0.321026  \n",
       "std         0.466873  \n",
       "min         0.000000  \n",
       "25%         0.000000  \n",
       "50%         0.000000  \n",
       "75%         1.000000  \n",
       "max         1.000000  "
      ]
     },
     "execution_count": 6,
     "metadata": {},
     "output_type": "execute_result"
    }
   ],
   "source": [
    "df.describe()"
   ]
  },
  {
   "cell_type": "markdown",
   "metadata": {},
   "source": [
    "Les premières observations ci-après peuvent être faites sur les colonnes:\n",
    "- La colonne âge présente à priori des valeurs aberrantes. Ces valeurs oscillent de __-1 an__ à __115 ans__. Il faudra effectuer une inspection détaillée de cette colonne\n",
    "- La colonne __Handcap__ ne contient à priori pas des valeurs booléennes. La valeur maximale enregistrée est __4__. Il s'agit éventuellement d'une valeur aberrantes ou alors la colonne enregistre le nombre total d'handicaps d'un patient particulier.\n",
    "- Les colonnes __Scholarship, Hipertension, Diabetes, Alcoholism, SMS_received__ contiennent des valeurs booléennes (0, 1).\n",
    "\n",
    "Pour la suite, un examen approfondi de certaines colonnes sera fait."
   ]
  },
  {
   "cell_type": "markdown",
   "metadata": {},
   "source": [
    "##### Valeurs des âges"
   ]
  },
  {
   "cell_type": "code",
   "execution_count": 7,
   "metadata": {},
   "outputs": [
    {
     "data": {
      "text/plain": [
       " 0      3539\n",
       " 1      2273\n",
       " 52     1746\n",
       " 49     1652\n",
       " 53     1651\n",
       "        ... \n",
       " 115       5\n",
       " 100       4\n",
       " 102       2\n",
       " 99        1\n",
       "-1         1\n",
       "Name: Age, Length: 104, dtype: int64"
      ]
     },
     "execution_count": 7,
     "metadata": {},
     "output_type": "execute_result"
    }
   ],
   "source": [
    "df['Age'].value_counts()"
   ]
  },
  {
   "cell_type": "markdown",
   "metadata": {},
   "source": [
    "Plusieurs patients sont âgés de __0 et 1 ans__, il s'agit probalement de nouveaux nés et de nourrissons.\n",
    "<br>\n",
    "Par ailleurs, un seul patient est âgé de __-1 an__. Soit c'est une valeur aberrente, ou alors il s'agit d'une femme enceinte. De toutes les façons, cette donnée ne nous sera pas très utile et elle pourra être supprimée."
   ]
  },
  {
   "cell_type": "markdown",
   "metadata": {},
   "source": [
    "##### Valeurs de Handcap"
   ]
  },
  {
   "cell_type": "code",
   "execution_count": 8,
   "metadata": {
    "scrolled": true
   },
   "outputs": [
    {
     "data": {
      "text/plain": [
       "array([0, 1, 2, 3, 4])"
      ]
     },
     "execution_count": 8,
     "metadata": {},
     "output_type": "execute_result"
    }
   ],
   "source": [
    "df['Handcap'].unique()"
   ]
  },
  {
   "cell_type": "markdown",
   "metadata": {},
   "source": [
    "Cette colonne contient jusqu'à 5 valeurs distinctes et ne renseigne pas assez sur son contenu. Elle pourra dont être supprimée"
   ]
  },
  {
   "cell_type": "markdown",
   "metadata": {},
   "source": [
    "##### Valeurs de No-show"
   ]
  },
  {
   "cell_type": "code",
   "execution_count": 9,
   "metadata": {},
   "outputs": [
    {
     "data": {
      "text/plain": [
       "array(['No', 'Yes'], dtype=object)"
      ]
     },
     "execution_count": 9,
     "metadata": {},
     "output_type": "execute_result"
    }
   ],
   "source": [
    "df['No-show'].unique()"
   ]
  },
  {
   "cell_type": "markdown",
   "metadata": {},
   "source": [
    "Cette colonne contient essentiellement les valeurs __Yes__ et __No__. Elle pourra être remplacée par une colonne booléenne pour plus de flexibilité"
   ]
  },
  {
   "cell_type": "markdown",
   "metadata": {},
   "source": [
    "#### Analyse des valeurs dupliquées"
   ]
  },
  {
   "cell_type": "code",
   "execution_count": 10,
   "metadata": {},
   "outputs": [
    {
     "data": {
      "text/plain": [
       "0"
      ]
     },
     "execution_count": 10,
     "metadata": {},
     "output_type": "execute_result"
    }
   ],
   "source": [
    "# Identification du nombre de valeurs dupliquées dans notre ensemble de données\n",
    "\n",
    "df.duplicated().sum()"
   ]
  },
  {
   "cell_type": "markdown",
   "metadata": {},
   "source": [
    "À priori notre ensemble de données ne présente pas de valeurs dupliquées.\n",
    "<br>\n",
    "Nous allons effectuer une deuxième vérification en considérant cette fois les paramètres __PatientID et AppointmentDay__"
   ]
  },
  {
   "cell_type": "code",
   "execution_count": 11,
   "metadata": {
    "scrolled": true
   },
   "outputs": [
    {
     "data": {
      "text/plain": [
       "8719"
      ]
     },
     "execution_count": 11,
     "metadata": {},
     "output_type": "execute_result"
    }
   ],
   "source": [
    "df.duplicated(subset=['PatientId', 'AppointmentDay']).sum()\n",
    "#df[].sort_values(by=['PatientId', 'AppointmentDay']).sample(40)"
   ]
  },
  {
   "cell_type": "markdown",
   "metadata": {},
   "source": [
    "Notre ensemble de données contient __8719__ qu'on peut considérer comme dupliquées et qu'on pourra supprimer."
   ]
  },
  {
   "cell_type": "markdown",
   "metadata": {},
   "source": [
    "#### Analyse des valeurs manquantes"
   ]
  },
  {
   "cell_type": "code",
   "execution_count": 12,
   "metadata": {},
   "outputs": [
    {
     "data": {
      "text/plain": [
       "PatientId         0\n",
       "AppointmentID     0\n",
       "Gender            0\n",
       "ScheduledDay      0\n",
       "AppointmentDay    0\n",
       "Age               0\n",
       "Neighbourhood     0\n",
       "Scholarship       0\n",
       "Hipertension      0\n",
       "Diabetes          0\n",
       "Alcoholism        0\n",
       "Handcap           0\n",
       "SMS_received      0\n",
       "No-show           0\n",
       "dtype: int64"
      ]
     },
     "execution_count": 12,
     "metadata": {},
     "output_type": "execute_result"
    }
   ],
   "source": [
    "# Identification du nombre de valeurs nulles par colonnes\n",
    "\n",
    "df.isnull().sum()"
   ]
  },
  {
   "cell_type": "markdown",
   "metadata": {},
   "source": [
    "Aucune valeur nulle (manquante) n'est présente dans notre ensemble de données. Aucun traitement particulier n'est à faire."
   ]
  },
  {
   "cell_type": "markdown",
   "metadata": {},
   "source": [
    "#### Analyse des valeurs uniques"
   ]
  },
  {
   "cell_type": "code",
   "execution_count": 13,
   "metadata": {
    "scrolled": false
   },
   "outputs": [
    {
     "data": {
      "text/plain": [
       "PatientId          62299\n",
       "AppointmentID     110527\n",
       "Gender                 2\n",
       "ScheduledDay      103549\n",
       "AppointmentDay        27\n",
       "Age                  104\n",
       "Neighbourhood         81\n",
       "Scholarship            2\n",
       "Hipertension           2\n",
       "Diabetes               2\n",
       "Alcoholism             2\n",
       "Handcap                5\n",
       "SMS_received           2\n",
       "No-show                2\n",
       "dtype: int64"
      ]
     },
     "execution_count": 13,
     "metadata": {},
     "output_type": "execute_result"
    }
   ],
   "source": [
    "df.nunique()"
   ]
  },
  {
   "cell_type": "markdown",
   "metadata": {},
   "source": [
    "Toutes les valeurs de numéro de rendez-vous __AppointmentID__ sont distinctes. Cette colonne ne nous apportera pas des informations utiles. Elle pourra être supprimée plus tard.\n",
    "<br>\n",
    "Le nombre de valeurs uniques dans la colonne __PatientId__ indique que des patients ont enregistrés plusieurs rendez-vous. Cela pourra être utile pour la suite des analyses.\n",
    "<br>\n",
    "La colonne __AppointmentDay__ indique que les données sont réparties sur __27__ jours distincts"
   ]
  },
  {
   "cell_type": "markdown",
   "metadata": {},
   "source": [
    "### Nettoyage des données\n",
    "Dans cette sections, nous allons procéder au nettoyage de notre ensemble de données en appliquant les remarques formulées à l'étape précédente (évaluation des données). Il s'agit de:\n",
    "- Supprimer des colonnes\n",
    "- Renommer les colonnes\n",
    "- Modifier les types de données de colonnes\n",
    "- Supprimer des valeurs aberrentes d'âge\n",
    "- Supprimer les enregistrements dupliqués\n",
    "- Rajouter une nouvelle colonne"
   ]
  },
  {
   "cell_type": "markdown",
   "metadata": {},
   "source": [
    "##### Suppression de colonnes"
   ]
  },
  {
   "cell_type": "code",
   "execution_count": 14,
   "metadata": {},
   "outputs": [
    {
     "data": {
      "text/plain": [
       "(110527, 14)"
      ]
     },
     "execution_count": 14,
     "metadata": {},
     "output_type": "execute_result"
    }
   ],
   "source": [
    "# Dimensions initiales\n",
    "\n",
    "df.shape"
   ]
  },
  {
   "cell_type": "code",
   "execution_count": 15,
   "metadata": {
    "scrolled": true
   },
   "outputs": [
    {
     "data": {
      "text/plain": [
       "(110527, 12)"
      ]
     },
     "execution_count": 15,
     "metadata": {},
     "output_type": "execute_result"
    }
   ],
   "source": [
    "# Suppression des colonnes AppointmentID et Handcap\n",
    "df.drop(columns=['AppointmentID', 'Handcap'], inplace=True)\n",
    "\n",
    "df.shape"
   ]
  },
  {
   "cell_type": "markdown",
   "metadata": {},
   "source": [
    "##### Renommage des colonnes"
   ]
  },
  {
   "cell_type": "code",
   "execution_count": 16,
   "metadata": {},
   "outputs": [
    {
     "data": {
      "text/plain": [
       "Index(['patient_id', 'gender', 'scheduled_day', 'appointment_day', 'age',\n",
       "       'neighbourhood', 'scholarship', 'hypertension', 'diabetes',\n",
       "       'alcoholism', 'sms_received', 'no-show'],\n",
       "      dtype='object')"
      ]
     },
     "execution_count": 16,
     "metadata": {},
     "output_type": "execute_result"
    }
   ],
   "source": [
    "# Renommage de toutes les colonnes\n",
    "# Rajout du separateur \"_\" entre les noms composés et correction d'orthographe\n",
    "df.rename(columns={\n",
    "    'PatientId': 'Patient_ID', \n",
    "    'AppointmentID': 'Appointment_ID', \n",
    "    'ScheduledDay': 'Scheduled_Day', \n",
    "    'AppointmentDay': 'Appointment_Day', \n",
    "    'Hipertension': 'Hypertension'}, inplace=True)\n",
    "\n",
    "# Transformation des noms en minuscule\n",
    "df.rename(columns=lambda c: c.lower(), inplace=True)\n",
    "\n",
    "# Affichage des nouveaux noms\n",
    "df.columns"
   ]
  },
  {
   "cell_type": "markdown",
   "metadata": {},
   "source": [
    "La colonne __no-show__ n'a pas été touchée car un traitement particulier y sera fait"
   ]
  },
  {
   "cell_type": "markdown",
   "metadata": {},
   "source": [
    "##### Modification des types de données"
   ]
  },
  {
   "cell_type": "code",
   "execution_count": 17,
   "metadata": {},
   "outputs": [
    {
     "data": {
      "text/plain": [
       "patient_id         float64\n",
       "gender              object\n",
       "scheduled_day       object\n",
       "appointment_day     object\n",
       "age                  int64\n",
       "neighbourhood       object\n",
       "scholarship          int64\n",
       "hypertension         int64\n",
       "diabetes             int64\n",
       "alcoholism           int64\n",
       "sms_received         int64\n",
       "no-show             object\n",
       "dtype: object"
      ]
     },
     "execution_count": 17,
     "metadata": {},
     "output_type": "execute_result"
    }
   ],
   "source": [
    "# Types de données actuels\n",
    "df.dtypes"
   ]
  },
  {
   "cell_type": "code",
   "execution_count": 18,
   "metadata": {},
   "outputs": [],
   "source": [
    "# Transformation des dates en type Datetime\n",
    "df.appointment_day = pd.to_datetime(df.appointment_day)\n",
    "df.scheduled_day = pd.to_datetime(df.scheduled_day)\n",
    "#df.scholarship = df.scholarship.astype(bool)\n",
    "#df.hypertension = df.hypertension.astype(bool)\n",
    "#df.diabetes = df.diabetes.astype(bool)\n",
    "#df.alcoholism = df.alcoholism.astype(bool)\n",
    "#df.sms_received = df.sms_received.astype(bool)"
   ]
  },
  {
   "cell_type": "markdown",
   "metadata": {},
   "source": [
    "On se rassure à présent que les nouveaux types sont bons"
   ]
  },
  {
   "cell_type": "code",
   "execution_count": 19,
   "metadata": {
    "scrolled": true
   },
   "outputs": [
    {
     "data": {
      "text/plain": [
       "patient_id                     float64\n",
       "gender                          object\n",
       "scheduled_day      datetime64[ns, UTC]\n",
       "appointment_day    datetime64[ns, UTC]\n",
       "age                              int64\n",
       "neighbourhood                   object\n",
       "scholarship                      int64\n",
       "hypertension                     int64\n",
       "diabetes                         int64\n",
       "alcoholism                       int64\n",
       "sms_received                     int64\n",
       "no-show                         object\n",
       "dtype: object"
      ]
     },
     "execution_count": 19,
     "metadata": {},
     "output_type": "execute_result"
    }
   ],
   "source": [
    "df.dtypes"
   ]
  },
  {
   "cell_type": "markdown",
   "metadata": {},
   "source": [
    "##### Suppression de valeurs aberrentes d'âge"
   ]
  },
  {
   "cell_type": "code",
   "execution_count": 20,
   "metadata": {},
   "outputs": [],
   "source": [
    "# Suppression des lignes où l'âge est -1\n",
    "df.drop(df[df.age == -1].index, inplace=True)"
   ]
  },
  {
   "cell_type": "code",
   "execution_count": 21,
   "metadata": {
    "scrolled": false
   },
   "outputs": [
    {
     "data": {
      "text/plain": [
       "(110526, 12)"
      ]
     },
     "execution_count": 21,
     "metadata": {},
     "output_type": "execute_result"
    }
   ],
   "source": [
    "df.shape"
   ]
  },
  {
   "cell_type": "markdown",
   "metadata": {},
   "source": [
    "##### Suppression des valeurs dupliquées"
   ]
  },
  {
   "cell_type": "code",
   "execution_count": 22,
   "metadata": {},
   "outputs": [
    {
     "data": {
      "text/plain": [
       "110526"
      ]
     },
     "execution_count": 22,
     "metadata": {},
     "output_type": "execute_result"
    }
   ],
   "source": [
    "# Nombre initial de données\n",
    "len(df)"
   ]
  },
  {
   "cell_type": "code",
   "execution_count": 23,
   "metadata": {},
   "outputs": [
    {
     "data": {
      "text/plain": [
       "101807"
      ]
     },
     "execution_count": 23,
     "metadata": {},
     "output_type": "execute_result"
    }
   ],
   "source": [
    "df.drop_duplicates(subset=['patient_id', 'appointment_day'], inplace=True)\n",
    "\n",
    "# Nombre de données après suppression des valeurs dupliquées\n",
    "len(df)"
   ]
  },
  {
   "cell_type": "markdown",
   "metadata": {},
   "source": [
    "##### Création de nouvelles colonnes\n",
    "\n",
    "Création d'une nouvelle colonne nommée __no_show__ de type booléen où la valeur est __True__ lorsque la colonne __no-show__ est à __Yes__ et ensuite suppression de l'ancienne colonne __no-show__."
   ]
  },
  {
   "cell_type": "code",
   "execution_count": 24,
   "metadata": {},
   "outputs": [],
   "source": [
    "df['no_show'] = (df['no-show'] == 'Yes').astype(int)\n",
    "df.drop(columns=['no-show'], inplace=True)"
   ]
  },
  {
   "cell_type": "code",
   "execution_count": 25,
   "metadata": {
    "scrolled": true
   },
   "outputs": [
    {
     "data": {
      "text/plain": [
       "patient_id                     float64\n",
       "gender                          object\n",
       "scheduled_day      datetime64[ns, UTC]\n",
       "appointment_day    datetime64[ns, UTC]\n",
       "age                              int64\n",
       "neighbourhood                   object\n",
       "scholarship                      int64\n",
       "hypertension                     int64\n",
       "diabetes                         int64\n",
       "alcoholism                       int64\n",
       "sms_received                     int64\n",
       "no_show                          int64\n",
       "dtype: object"
      ]
     },
     "execution_count": 25,
     "metadata": {},
     "output_type": "execute_result"
    }
   ],
   "source": [
    "df.dtypes"
   ]
  },
  {
   "cell_type": "markdown",
   "metadata": {},
   "source": [
    "A ce stade, le nettoyage des données est terminé et nous pouvons désormais procéder à l'analyse exploratoire des données."
   ]
  },
  {
   "cell_type": "markdown",
   "metadata": {},
   "source": [
    "<a id='eda'></a>\n",
    "## Analyse exploratoire des données\n",
    "\n",
    "Dans cette section, nous allons répondre à chacune des questions posées à l'introduction en effectuant une analyse de notre ensemble de données."
   ]
  },
  {
   "cell_type": "markdown",
   "metadata": {},
   "source": [
    "<a id='q1'></a>\n",
    "### Quels sont les principaux paramètres des patients qui pourraient influencer sur le respect des dates de rendez-vous ?\n",
    "\n",
    "Afin de répondre à cette question, nous allons effectuer une étude de correlation entre le taux d'absentéisme aux rendez-vous et chacuns des paramètres du patient:\n",
    "- [Âge](#q1_age)\n",
    "- [Genre](#q1_gender)\n",
    "- [Pathologies (diabétique et/ou hypertendu)](#q1_pathology)\n",
    "- [Alcoolisme](#q1_alcohol)"
   ]
  },
  {
   "cell_type": "code",
   "execution_count": 26,
   "metadata": {},
   "outputs": [],
   "source": [
    "# Création d'une fonction générique pour la personnalisation des libellés d'un graphe\n",
    "def labelGraph(title, xlabel=None, ylabel=None, xorient='horizontal'):\n",
    "    plt.title(title)\n",
    "    plt.xlabel(xlabel)\n",
    "    plt.ylabel(ylabel)\n",
    "    plt.xticks(rotation=xorient)"
   ]
  },
  {
   "cell_type": "markdown",
   "metadata": {},
   "source": [
    "#### Analyse de la répartition des principaux paramètres"
   ]
  },
  {
   "cell_type": "code",
   "execution_count": 27,
   "metadata": {
    "scrolled": true
   },
   "outputs": [
    {
     "data": {
      "image/png": "[encoded data removed]",
      "text/plain": [
       "<Figure size 1440x1152 with 12 Axes>"
      ]
     },
     "metadata": {
      "needs_background": "light"
     },
     "output_type": "display_data"
    }
   ],
   "source": [
    "# Affichage de l'histogramme de toutes les variables quantitatives\n",
    "\n",
    "df.hist(figsize=(20, 16));"
   ]
  },
  {
   "cell_type": "markdown",
   "metadata": {},
   "source": [
    "Nous pouvons constater que :\n",
    "- Les rendez-vous sont généralement pris en début et milieu de mois\n",
    "- Le graphe des âges est légèrement incliné vers la droite. Des pics sont observés pour les nourrissons (autour de 0 ans) et les personnes âgées d'environ 30 ans et 50 ans ;\n",
    "- Une petite portion de patients présentent un pathologie (diabète ou hypertension) ;\n",
    "- Très peu de patients enregistrés bénéficient de l'aide sociale Bolsa Famìlia (Scholarship) ;\n",
    "- Très peu de patients alcooliques enregistrés."
   ]
  },
  {
   "cell_type": "markdown",
   "metadata": {},
   "source": [
    "#### Exploration du paramètre no_show"
   ]
  },
  {
   "cell_type": "code",
   "execution_count": 28,
   "metadata": {},
   "outputs": [
    {
     "data": {
      "image/png": "[encoded data removed]",
      "text/plain": [
       "<Figure size 576x576 with 1 Axes>"
      ]
     },
     "metadata": {},
     "output_type": "display_data"
    }
   ],
   "source": [
    "df.no_show.value_counts().plot(kind='pie',\n",
    "                              figsize=(8, 8),\n",
    "                              legend=True,\n",
    "                              labels=['Présent', 'Absent'],\n",
    "                              autopct='%1.1f%%',\n",
    "                              explode=(0, 0.1),\n",
    "                              labeldistance=None,\n",
    "                              shadow=True);\n",
    "labelGraph('Répartition des présences aux rendez-vous dans la série',\n",
    "          ylabel='Présence');\n",
    "#plt.ylabel('Présence')\n",
    "#plt.title('Répartition des présences aux rendez-vous dans la série');"
   ]
  },
  {
   "cell_type": "markdown",
   "metadata": {},
   "source": [
    "Jusqu'à __20.1%__ des enregistrements dans notre série correspond aux cas où les patients ne se sont pas pointé à leur rendez-vous.\n",
    "<br> Pour la suite, nous allons effectuer des analyses de corrélations avec les principaux paramètre de notre étude."
   ]
  },
  {
   "cell_type": "markdown",
   "metadata": {},
   "source": [
    "#### Exploration du paramètre Age (boîte à moustache)"
   ]
  },
  {
   "cell_type": "markdown",
   "metadata": {},
   "source": [
    "Nous allons procéder à une exploration détaillée du paramètre âge pour identifier d'éventuelles valeurs aberrantes."
   ]
  },
  {
   "cell_type": "code",
   "execution_count": 29,
   "metadata": {
    "scrolled": false
   },
   "outputs": [
    {
     "data": {
      "image/png": "[encoded data removed]",
      "text/plain": [
       "<Figure size 720x720 with 1 Axes>"
      ]
     },
     "metadata": {
      "needs_background": "light"
     },
     "output_type": "display_data"
    }
   ],
   "source": [
    "# Tracé du diagramme Boîte à moustache du paramètre Age\n",
    "\n",
    "df.age.plot(kind='box', figsize=(10, 10));\n",
    "labelGraph('Distribution des âges', 'Âge', 'Nombre');\n",
    "#plt.title('Distribution des âges');\n",
    "#plt.xlabel('Âge')\n",
    "#plt.ylabel('Nombre');"
   ]
  },
  {
   "cell_type": "markdown",
   "metadata": {},
   "source": [
    "Il ressort que le paramètre __Age__ est bien distribué malgré une petite quantité de valeurs considérées aberrantes au delà de __100 ans__."
   ]
  },
  {
   "cell_type": "markdown",
   "metadata": {},
   "source": [
    "<a id='q1_age'></a>\n",
    "#### Correlation entre l'âge et le respect des rendez-vous\n",
    "Tracé du nuage de points marquant la relation entre l'âge des patients et le fait qu'ils ont respecté ou non leur rendez-vous."
   ]
  },
  {
   "cell_type": "code",
   "execution_count": 30,
   "metadata": {
    "scrolled": true
   },
   "outputs": [
    {
     "data": {
      "image/png": "[encoded data removed]",
      "text/plain": [
       "<Figure size 864x288 with 1 Axes>"
      ]
     },
     "metadata": {
      "needs_background": "light"
     },
     "output_type": "display_data"
    }
   ],
   "source": [
    "# Tracé du nuage de points\n",
    "\n",
    "df.plot(kind='scatter', y='no_show', x='age', figsize=(12, 4));\n",
    "labelGraph(\"Correlation entre l'âge et l'absence aux rendez-vous médicaux\",\n",
    "          'Âge',\n",
    "          'Présent (1) /Non-présent (0)')\n",
    "#plt.title('Correlation entre l\\'âge et l\\'absence aux rendez-vous médicaux');\n",
    "#plt.xlabel('Âge')\n",
    "#plt.ylabel('Présent (1) /Non-présent (0)');"
   ]
  },
  {
   "cell_type": "markdown",
   "metadata": {},
   "source": [
    "Nous constatons qu'il n'existe pas de corrélation directe entre l'âge et le respect des rendez-vous médicaux. Il est impossible de prédire si un patient d'un certain âge pourra se présenter à son rendez-vous.\n",
    "<br>\n",
    "Nous allons maintenant procéder à une analyse beaucoup plus quantitative des âges en les répartissant en différents groupes."
   ]
  },
  {
   "cell_type": "markdown",
   "metadata": {},
   "source": [
    "##### Répartition des âges en groupes"
   ]
  },
  {
   "cell_type": "code",
   "execution_count": 31,
   "metadata": {
    "scrolled": true
   },
   "outputs": [
    {
     "data": {
      "text/plain": [
       "count    101807.000000\n",
       "mean         37.059289\n",
       "std          23.213906\n",
       "min           0.000000\n",
       "25%          18.000000\n",
       "50%          37.000000\n",
       "75%          56.000000\n",
       "max         115.000000\n",
       "Name: age, dtype: float64"
      ]
     },
     "execution_count": 31,
     "metadata": {},
     "output_type": "execute_result"
    }
   ],
   "source": [
    "# Exploration des valeurs significatives des âges\n",
    "\n",
    "df.age.describe()"
   ]
  },
  {
   "cell_type": "markdown",
   "metadata": {},
   "source": [
    "Les âges peuvent être répartis en __3 groupes__ :\n",
    "- Les _enfants_ de moins de __0__ à __18 ans__ (en dessous du 25e percentile)\n",
    "- Les _adultes_ de __19__ à __56 ans__ (du 25e percentile au 75e percentile)\n",
    "- Les _vieux_ de __57__ à __115 ans__ (au delà du 75e percentile)"
   ]
  },
  {
   "cell_type": "code",
   "execution_count": 32,
   "metadata": {},
   "outputs": [],
   "source": [
    "# Définition des groupes \n",
    "bin_edges = [-1, 18, 56, 116]"
   ]
  },
  {
   "cell_type": "code",
   "execution_count": 33,
   "metadata": {},
   "outputs": [],
   "source": [
    "# Libellés\n",
    "bin_names = ['Enfant', 'Adulte', 'Vieux']"
   ]
  },
  {
   "cell_type": "code",
   "execution_count": 34,
   "metadata": {},
   "outputs": [],
   "source": [
    "# Création d'une colonne pour les groupes d'âge\n",
    "df['age_group'] = pd.cut(df['age'], bin_edges, labels=bin_names)"
   ]
  },
  {
   "cell_type": "code",
   "execution_count": 35,
   "metadata": {
    "scrolled": true
   },
   "outputs": [
    {
     "data": {
      "text/html": [
       "<div>\n",
       "<style scoped>\n",
       "    .dataframe tbody tr th:only-of-type {\n",
       "        vertical-align: middle;\n",
       "    }\n",
       "\n",
       "    .dataframe tbody tr th {\n",
       "        vertical-align: top;\n",
       "    }\n",
       "\n",
       "    .dataframe thead th {\n",
       "        text-align: right;\n",
       "    }\n",
       "</style>\n",
       "<table border=\"1\" class=\"dataframe\">\n",
       "  <thead>\n",
       "    <tr style=\"text-align: right;\">\n",
       "      <th></th>\n",
       "      <th>patient_id</th>\n",
       "      <th>gender</th>\n",
       "      <th>scheduled_day</th>\n",
       "      <th>appointment_day</th>\n",
       "      <th>age</th>\n",
       "      <th>neighbourhood</th>\n",
       "      <th>scholarship</th>\n",
       "      <th>hypertension</th>\n",
       "      <th>diabetes</th>\n",
       "      <th>alcoholism</th>\n",
       "      <th>sms_received</th>\n",
       "      <th>no_show</th>\n",
       "      <th>age_group</th>\n",
       "    </tr>\n",
       "  </thead>\n",
       "  <tbody>\n",
       "    <tr>\n",
       "      <th>95152</th>\n",
       "      <td>2.516783e+11</td>\n",
       "      <td>M</td>\n",
       "      <td>2016-06-07 11:00:08+00:00</td>\n",
       "      <td>2016-06-07 00:00:00+00:00</td>\n",
       "      <td>15</td>\n",
       "      <td>JARDIM DA PENHA</td>\n",
       "      <td>0</td>\n",
       "      <td>0</td>\n",
       "      <td>0</td>\n",
       "      <td>0</td>\n",
       "      <td>0</td>\n",
       "      <td>0</td>\n",
       "      <td>Enfant</td>\n",
       "    </tr>\n",
       "  </tbody>\n",
       "</table>\n",
       "</div>"
      ],
      "text/plain": [
       "         patient_id gender             scheduled_day  \\\n",
       "95152  2.516783e+11      M 2016-06-07 11:00:08+00:00   \n",
       "\n",
       "                appointment_day  age    neighbourhood  scholarship  \\\n",
       "95152 2016-06-07 00:00:00+00:00   15  JARDIM DA PENHA            0   \n",
       "\n",
       "       hypertension  diabetes  alcoholism  sms_received  no_show age_group  \n",
       "95152             0         0           0             0        0    Enfant  "
      ]
     },
     "execution_count": 35,
     "metadata": {},
     "output_type": "execute_result"
    }
   ],
   "source": [
    "# Vérification de la création des colonnes\n",
    "df.sample()"
   ]
  },
  {
   "cell_type": "markdown",
   "metadata": {},
   "source": [
    "Pour une analyse plus objective, nous allons évaluer le taux d'absence aux rendez-vous (moyenne des no_show = True sur le nombre total de rendez-vous) pour chaque groupe d'âge.\n",
    "\n",
    "$$\n",
    "Taux = 100 \\times \\frac{Count(Absent)}{Count(Present) + Count(Absent)}\n",
    "$$"
   ]
  },
  {
   "cell_type": "code",
   "execution_count": 36,
   "metadata": {},
   "outputs": [],
   "source": [
    "# Création d'une variable pour pouvoir filtrer plus rapidement les enregistrement où le patient s'est pointé\n",
    "\n",
    "# Filtrer rapidement les lignes où le patient ne s'est pas présenté\n",
    "no_show = df['no_show'] == 1\n",
    "\n",
    "# Filtrer rapidement les lignes où le patient s'est présenté\n",
    "show = df['no_show'] == 0"
   ]
  },
  {
   "cell_type": "code",
   "execution_count": 37,
   "metadata": {},
   "outputs": [
    {
     "data": {
      "text/plain": [
       "age_group\n",
       "Enfant    21.528401\n",
       "Adulte    21.479639\n",
       "Vieux     15.408019\n",
       "Name: no_show, dtype: float64"
      ]
     },
     "execution_count": 37,
     "metadata": {},
     "output_type": "execute_result"
    }
   ],
   "source": [
    "df_group = 100 * df[no_show].groupby('age_group').no_show.count() / df.groupby('age_group').no_show.count()\n",
    "df_group"
   ]
  },
  {
   "cell_type": "code",
   "execution_count": 38,
   "metadata": {},
   "outputs": [
    {
     "data": {
      "image/png": "[encoded data removed]",
      "text/plain": [
       "<Figure size 648x288 with 1 Axes>"
      ]
     },
     "metadata": {
      "needs_background": "light"
     },
     "output_type": "display_data"
    }
   ],
   "source": [
    "# Affichage du graphe y relatif\n",
    "df_group.plot(kind='bar', figsize=(9, 4))\n",
    "labelGraph(\"Taux d'absence aux rendez-vous par groupe d'âge\",\n",
    "          \"Groupe d'âge\",\n",
    "          \"Taux d'absence\");\n",
    "#plt.title('Taux d\\'absence aux rendez-vous par groupe d\\'âge');\n",
    "#plt.xticks(rotation='horizontal')\n",
    "#plt.xlabel('Groupe d\\'âge')\n",
    "#plt.ylabel('Taux d\\'absence');"
   ]
  },
  {
   "cell_type": "markdown",
   "metadata": {},
   "source": [
    "Il ressort que :\n",
    "- __21.53%__ des rendez-vous pris pour les __Enfants__ ne sont souvent pas respectés\n",
    "- __21.48%__ des rendez-vous pris par les __Adultes__ ne sont souvent pas respectés\n",
    "- __15.41%__ des rendez-vous pris par les __Vieux__ ne sont pas souvent respectés"
   ]
  },
  {
   "cell_type": "markdown",
   "metadata": {},
   "source": [
    "#### Exploration du paramètre Genre"
   ]
  },
  {
   "cell_type": "code",
   "execution_count": 39,
   "metadata": {},
   "outputs": [
    {
     "data": {
      "image/png": "[encoded data removed]",
      "text/plain": [
       "<Figure size 576x576 with 1 Axes>"
      ]
     },
     "metadata": {},
     "output_type": "display_data"
    }
   ],
   "source": [
    "df.gender.value_counts().plot(kind='pie',\n",
    "                              figsize=(8, 8),\n",
    "                              legend=True,\n",
    "                              labels=['Femme', 'Homme'],\n",
    "                              autopct='%1.1f%%',\n",
    "                              explode=(0, 0.1),\n",
    "                              labeldistance=None,\n",
    "                              shadow=True);\n",
    "labelGraph('Répartition des genres dans la série',\n",
    "          ylabel='Genre')\n",
    "#plt.ylabel('Genre')\n",
    "#plt.title('Répartition des genres dans la série');"
   ]
  },
  {
   "cell_type": "markdown",
   "metadata": {},
   "source": [
    "__65.4%__ des patients dans notre série sont des femmes contre __34.6%__ d'hommes."
   ]
  },
  {
   "cell_type": "markdown",
   "metadata": {},
   "source": [
    "<a id='q1_gender'></a>\n",
    "#### Corrélation entre le genre et les absences aux rendez-vous\n",
    "\n",
    "Évaluation du taux d'absence aux rendez-vous (moyenne des no_show = True sur le nombre total de rendez-vous) pour chaque genre, comme précédemment avec les groupes d'âge."
   ]
  },
  {
   "cell_type": "code",
   "execution_count": 40,
   "metadata": {},
   "outputs": [
    {
     "data": {
      "text/plain": [
       "gender\n",
       "Femme    20.194833\n",
       "Homme    19.809015\n",
       "Name: no_show, dtype: float64"
      ]
     },
     "execution_count": 40,
     "metadata": {},
     "output_type": "execute_result"
    }
   ],
   "source": [
    "df_group = 100 * df[no_show].groupby('gender').no_show.count() / df.groupby('gender').no_show.count()\n",
    "df_group.rename({'F' : 'Femme', 'M' : 'Homme'}, inplace=True)\n",
    "df_group"
   ]
  },
  {
   "cell_type": "code",
   "execution_count": 41,
   "metadata": {
    "scrolled": true
   },
   "outputs": [
    {
     "data": {
      "image/png": "[encoded data removed]",
      "text/plain": [
       "<Figure size 648x288 with 1 Axes>"
      ]
     },
     "metadata": {
      "needs_background": "light"
     },
     "output_type": "display_data"
    }
   ],
   "source": [
    "# Affichage du graphe y relatif\n",
    "df_group.plot(kind='bar', figsize=(9, 4))\n",
    "labelGraph(\"Taux d'absence aux rendez-vous par genre\",\n",
    "          'Genre',\n",
    "          \"Taux d'absence\");\n",
    "#plt.title('Taux d\\'absence aux rendez-vous par genre');\n",
    "#plt.xlabel('Genre')\n",
    "#plt.xticks(rotation='horizontal')\n",
    "#plt.ylabel('Taux d\\'absence');"
   ]
  },
  {
   "cell_type": "markdown",
   "metadata": {},
   "source": [
    "Il ressort que :\n",
    "- __20.19%__ des rendez-vous pris par les __Femmes__ ne sont souvent pas respectés\n",
    "- __19.81%__ des rendez-vous pris par les __Hommes__ ne sont souvent pas respectés"
   ]
  },
  {
   "cell_type": "markdown",
   "metadata": {},
   "source": [
    "<a id='q1_pathology'></a>\n",
    "#### Corrélation entre les pathologies et l'absence aux rendez-vous médicaux\n",
    "Un patient sera considéré malade s'il présente au moins une pathologie (diabète ou hypertension).\n",
    "Nous allons créer une nouvelle colonne booléenne qui sera __True__ si le patient est __diabétique ou hypertendu__ et False dans le cas contraire."
   ]
  },
  {
   "cell_type": "code",
   "execution_count": 42,
   "metadata": {},
   "outputs": [],
   "source": [
    "# Affichage du graphe relatif au nombre de personnes alcooliques\n",
    "df['sick'] = ((df['diabetes'] == 1) | (df['hypertension'] == 1)).astype(int)"
   ]
  },
  {
   "cell_type": "code",
   "execution_count": 43,
   "metadata": {
    "scrolled": true
   },
   "outputs": [
    {
     "data": {
      "text/html": [
       "<div>\n",
       "<style scoped>\n",
       "    .dataframe tbody tr th:only-of-type {\n",
       "        vertical-align: middle;\n",
       "    }\n",
       "\n",
       "    .dataframe tbody tr th {\n",
       "        vertical-align: top;\n",
       "    }\n",
       "\n",
       "    .dataframe thead th {\n",
       "        text-align: right;\n",
       "    }\n",
       "</style>\n",
       "<table border=\"1\" class=\"dataframe\">\n",
       "  <thead>\n",
       "    <tr style=\"text-align: right;\">\n",
       "      <th></th>\n",
       "      <th>patient_id</th>\n",
       "      <th>gender</th>\n",
       "      <th>scheduled_day</th>\n",
       "      <th>appointment_day</th>\n",
       "      <th>age</th>\n",
       "      <th>neighbourhood</th>\n",
       "      <th>scholarship</th>\n",
       "      <th>hypertension</th>\n",
       "      <th>diabetes</th>\n",
       "      <th>alcoholism</th>\n",
       "      <th>sms_received</th>\n",
       "      <th>no_show</th>\n",
       "      <th>age_group</th>\n",
       "      <th>sick</th>\n",
       "    </tr>\n",
       "  </thead>\n",
       "  <tbody>\n",
       "    <tr>\n",
       "      <th>33643</th>\n",
       "      <td>5.514854e+10</td>\n",
       "      <td>F</td>\n",
       "      <td>2016-05-09 13:38:28+00:00</td>\n",
       "      <td>2016-05-11 00:00:00+00:00</td>\n",
       "      <td>45</td>\n",
       "      <td>FORTE SÃO JOÃO</td>\n",
       "      <td>0</td>\n",
       "      <td>0</td>\n",
       "      <td>0</td>\n",
       "      <td>0</td>\n",
       "      <td>0</td>\n",
       "      <td>0</td>\n",
       "      <td>Adulte</td>\n",
       "      <td>0</td>\n",
       "    </tr>\n",
       "  </tbody>\n",
       "</table>\n",
       "</div>"
      ],
      "text/plain": [
       "         patient_id gender             scheduled_day  \\\n",
       "33643  5.514854e+10      F 2016-05-09 13:38:28+00:00   \n",
       "\n",
       "                appointment_day  age   neighbourhood  scholarship  \\\n",
       "33643 2016-05-11 00:00:00+00:00   45  FORTE SÃO JOÃO            0   \n",
       "\n",
       "       hypertension  diabetes  alcoholism  sms_received  no_show age_group  \\\n",
       "33643             0         0           0             0        0    Adulte   \n",
       "\n",
       "       sick  \n",
       "33643     0  "
      ]
     },
     "execution_count": 43,
     "metadata": {},
     "output_type": "execute_result"
    }
   ],
   "source": [
    "df.sample()"
   ]
  },
  {
   "cell_type": "code",
   "execution_count": 44,
   "metadata": {},
   "outputs": [
    {
     "data": {
      "image/png": "[encoded data removed]",
      "text/plain": [
       "<Figure size 576x576 with 1 Axes>"
      ]
     },
     "metadata": {},
     "output_type": "display_data"
    }
   ],
   "source": [
    "# Exploration du paramètre Pathologie\n",
    "df.sick.value_counts().plot(kind='pie',\n",
    "                              figsize=(8, 8),\n",
    "                              legend=True,\n",
    "                              labels=['Aucune pathologie', 'Diabétique ou hypertendu'],\n",
    "                              autopct='%1.1f%%',\n",
    "                              explode=(0, 0.1),\n",
    "                              labeldistance=None,\n",
    "                              shadow=True);\n",
    "labelGraph('Répartition du caractère pathologique dans la série',\n",
    "          ylabel='Pathologie')"
   ]
  },
  {
   "cell_type": "markdown",
   "metadata": {},
   "source": [
    "__21.2%__ des patients dans notre série présentent une pathologie (diabète ou hypertension)"
   ]
  },
  {
   "cell_type": "code",
   "execution_count": 45,
   "metadata": {
    "scrolled": true
   },
   "outputs": [
    {
     "data": {
      "text/plain": [
       "sick\n",
       "Aucune pathologie           20.815788\n",
       "Diabétique ou hypertendu    17.250824\n",
       "Name: no_show, dtype: float64"
      ]
     },
     "execution_count": 45,
     "metadata": {},
     "output_type": "execute_result"
    }
   ],
   "source": [
    "# Taux d'absence aux rendez-vous chez les personnes malades\n",
    "df_group = 100 * df[no_show].groupby('sick').no_show.count() / df.groupby('sick').no_show.count()\n",
    "df_group.rename({0 : 'Aucune pathologie', 1 : 'Diabétique ou hypertendu'}, inplace=True)\n",
    "df_group"
   ]
  },
  {
   "cell_type": "code",
   "execution_count": 46,
   "metadata": {},
   "outputs": [
    {
     "data": {
      "image/png": "[encoded data removed]",
      "text/plain": [
       "<Figure size 648x288 with 1 Axes>"
      ]
     },
     "metadata": {
      "needs_background": "light"
     },
     "output_type": "display_data"
    }
   ],
   "source": [
    "df_group.plot(kind='bar', figsize=(9, 4));\n",
    "labelGraph(\"Taux d'absence aux rendez-vous en fonction des pathologies\",\n",
    "          'Pathologie',\n",
    "          \"Taux d'absence\")"
   ]
  },
  {
   "cell_type": "markdown",
   "metadata": {},
   "source": [
    "Il ressort que :\n",
    "- __20.82%__ des rendez-vous pris par les personnes n'ayant __aucune pathologie__ ne sont souvent pas respectés\n",
    "- __17.25%__ des rendez-vous pris par les personnes __malades__ ne sont souvent pas respectés"
   ]
  },
  {
   "cell_type": "markdown",
   "metadata": {},
   "source": [
    "<a id='q1_alcohol'></a>\n",
    "#### Corrélation entre l'alcoolisme et l'absence aux rendez-vous médicaux"
   ]
  },
  {
   "cell_type": "code",
   "execution_count": 47,
   "metadata": {},
   "outputs": [
    {
     "data": {
      "image/png": "[encoded data removed]",
      "text/plain": [
       "<Figure size 576x576 with 1 Axes>"
      ]
     },
     "metadata": {},
     "output_type": "display_data"
    }
   ],
   "source": [
    "# Affichage du graphe relatif au nombre de personnes alcooliques\n",
    "df.alcoholism.value_counts().plot(kind='pie',\n",
    "                               figsize=(8, 8),\n",
    "                               labels=['Non alcoolique', 'Alcoolique'],\n",
    "                               legend=True,\n",
    "                               autopct='%1.1f%%',\n",
    "                               #explode=(0, 0.1),\n",
    "                               labeldistance=None,\n",
    "                               shadow=True);\n",
    "labelGraph('Répartition des alcooliques dans la série',\n",
    "          ylabel='Alcoolisme')\n",
    "#plt.ylabel('Alcoolisme')\n",
    "#plt.title('Répartition des alcooliques dans la série');"
   ]
  },
  {
   "cell_type": "markdown",
   "metadata": {},
   "source": [
    "Seulement __2.8%__ des enregistrement correspondent aux patients ayant un problème d'alcoolisme."
   ]
  },
  {
   "cell_type": "code",
   "execution_count": 48,
   "metadata": {},
   "outputs": [
    {
     "data": {
      "text/plain": [
       "alcoholism\n",
       "Non alcoolique    20.020203\n",
       "Alcoolique        21.514936\n",
       "Name: no_show, dtype: float64"
      ]
     },
     "execution_count": 48,
     "metadata": {},
     "output_type": "execute_result"
    }
   ],
   "source": [
    "# Taux d'absence aux rendez-vous chez les personnes alcooliques\n",
    "df_group = 100 * df[no_show].groupby('alcoholism').no_show.count() / df.groupby('alcoholism').no_show.count()\n",
    "df_group.rename({0 : 'Non alcoolique', 1 : 'Alcoolique'}, inplace=True)\n",
    "df_group"
   ]
  },
  {
   "cell_type": "code",
   "execution_count": 49,
   "metadata": {},
   "outputs": [
    {
     "data": {
      "image/png": "[encoded data removed]",
      "text/plain": [
       "<Figure size 648x288 with 1 Axes>"
      ]
     },
     "metadata": {
      "needs_background": "light"
     },
     "output_type": "display_data"
    }
   ],
   "source": [
    "df_group.plot(kind='bar', figsize=(9, 4));\n",
    "labelGraph(\"Taux d'absence aux rendez-vous chez les personnes alcooliques et non-alcooliques\",\n",
    "          'Alcoolisme',\n",
    "          \"Taux d'absence\")\n",
    "#plt.title('Taux d\\'absence aux rendez-vous chez les personnes alcooliques et non-alcooliques');\n",
    "#plt.xlabel('Alcoolisme')\n",
    "#plt.xticks(rotation='horizontal')\n",
    "#plt.ylabel('Taux d\\'absence');"
   ]
  },
  {
   "cell_type": "markdown",
   "metadata": {},
   "source": [
    "Il ressort que :\n",
    "- __20.02%__ des rendez-vous pris par les personnes __non-alcooliques__ ne sont souvent pas respectés\n",
    "- __21.51%__ des rendez-vous pris par les personnes __alcooliques__ ne sont souvent pas respectés"
   ]
  },
  {
   "cell_type": "markdown",
   "metadata": {},
   "source": [
    "<a id='q2'></a>\n",
    "### L'envoie des SMS aux patients est-il efficace ?\n",
    "#### Corrélation entre la réceptions des SMS et l'absence aux rendez-vous médicaux"
   ]
  },
  {
   "cell_type": "code",
   "execution_count": 50,
   "metadata": {},
   "outputs": [
    {
     "data": {
      "image/png": "[encoded data removed]",
      "text/plain": [
       "<Figure size 576x576 with 1 Axes>"
      ]
     },
     "metadata": {},
     "output_type": "display_data"
    }
   ],
   "source": [
    "# Affichage du graphe relatif au nombre de récipiendaires des SMS\n",
    "df.sms_received.value_counts().plot(kind='pie',\n",
    "                               figsize=(8, 8),\n",
    "                               labels=['SMS non reçu', 'SMS reçu'],\n",
    "                               legend=True,\n",
    "                               autopct='%1.1f%%',\n",
    "                               explode=(0, 0.1),\n",
    "                               labeldistance=None,\n",
    "                               shadow=True);\n",
    "labelGraph('Répartition des enregistrement en fonction de la réception des SMS',\n",
    "          ylabel='Notification SMS')\n",
    "#plt.ylabel('Notification SMS')\n",
    "#plt.title('Répartition des enregistrement en fonction de la réception des SMS');"
   ]
  },
  {
   "cell_type": "markdown",
   "metadata": {},
   "source": [
    "Jusqu'à __66.5%__ des enregistrement correspondent aux patients qui n'ont pas reçu des SMS."
   ]
  },
  {
   "cell_type": "code",
   "execution_count": 51,
   "metadata": {},
   "outputs": [
    {
     "data": {
      "text/plain": [
       "sms_received\n",
       "SMS non reçu    16.369817\n",
       "SMS reçu        27.374678\n",
       "Name: no_show, dtype: float64"
      ]
     },
     "execution_count": 51,
     "metadata": {},
     "output_type": "execute_result"
    }
   ],
   "source": [
    "# Taux d'absence aux rendez-vous en fonction de la réception des SMS\n",
    "df_group = 100 * df[no_show].groupby('sms_received').no_show.count() / df.groupby('sms_received').no_show.count()\n",
    "df_group.rename({0 : 'SMS non reçu', 1 : 'SMS reçu'}, inplace=True)\n",
    "df_group"
   ]
  },
  {
   "cell_type": "code",
   "execution_count": 52,
   "metadata": {},
   "outputs": [
    {
     "data": {
      "image/png": "[encoded data removed]",
      "text/plain": [
       "<Figure size 648x288 with 1 Axes>"
      ]
     },
     "metadata": {
      "needs_background": "light"
     },
     "output_type": "display_data"
    }
   ],
   "source": [
    "# Affichage du graphe y relatif\n",
    "df_group.plot(kind='bar', figsize=(9, 4));\n",
    "labelGraph(\"Taux d'absence aux rendez-vous en fonction de la réception des SMS\",\n",
    "          'Réception SMS',\n",
    "          \"Taux d'absence\")\n",
    "#plt.title('Taux d\\'absence aux rendez-vous en fonction de la réception des SMS');\n",
    "#plt.xlabel('SMS')\n",
    "#plt.xticks(rotation='horizontal')\n",
    "#plt.ylabel('Taux d\\'absence');"
   ]
  },
  {
   "cell_type": "markdown",
   "metadata": {},
   "source": [
    "Il ressort que :\n",
    "- __16.37%__ des rendez-vous pris par les personnes __n'ayant pas reçu un SMS__ ne sont souvent pas respectés\n",
    "- __27.37%__ des rendez-vous pris par les personnes __ayant reçu un SMS__ ne sont souvent pas respectés"
   ]
  },
  {
   "cell_type": "markdown",
   "metadata": {},
   "source": [
    "<a id='q3'></a>\n",
    "### Les patients bénéficiant des aides sociales (Bolsa Família) prennent-ils généralement au serieux leurs rendez-medicaux ?"
   ]
  },
  {
   "cell_type": "code",
   "execution_count": 53,
   "metadata": {},
   "outputs": [
    {
     "data": {
      "image/png": "[encoded data removed]",
      "text/plain": [
       "<Figure size 576x576 with 1 Axes>"
      ]
     },
     "metadata": {},
     "output_type": "display_data"
    }
   ],
   "source": [
    "# Affichage des statistiques relatives au nombre de bénéficiaires de l'aide sociale\n",
    "df.groupby('patient_id').max().scholarship.value_counts().plot(kind='pie',\n",
    "                               figsize=(8, 8),\n",
    "                               labels=['Non bénéficiaire', 'Bénéficiaire'],\n",
    "                               legend=True,\n",
    "                               autopct='%1.1f%%',\n",
    "                               #explode=(0, 0.1),\n",
    "                               labeldistance=None,\n",
    "                               shadow=True);\n",
    "labelGraph(\"Répartition des enregistrement en fonction de l'aide sociale\",\n",
    "          ylabel='Aide sociale')\n",
    "#plt.ylabel('Aide sociale')\n",
    "#plt.title('Répartition des enregistrement en fonction de l\\'aide sociale');"
   ]
  },
  {
   "cell_type": "markdown",
   "metadata": {},
   "source": [
    "Seulement __9.3%__ des patients enregistrés bénéficient de l'aide sociale Bolsa Famìlia."
   ]
  },
  {
   "cell_type": "code",
   "execution_count": 54,
   "metadata": {},
   "outputs": [
    {
     "data": {
      "text/plain": [
       "scholarship\n",
       "Non bénéficiaire    19.682142\n",
       "Bénéficiaire        23.566687\n",
       "Name: no_show, dtype: float64"
      ]
     },
     "execution_count": 54,
     "metadata": {},
     "output_type": "execute_result"
    }
   ],
   "source": [
    "# Taux d'absence aux rendez-vous en fonction de l'aide sociale\n",
    "df_group = 100 * df[no_show].groupby('scholarship').no_show.count() / df.groupby('scholarship').no_show.count()\n",
    "df_group.rename({0 : 'Non bénéficiaire', 1 : 'Bénéficiaire'}, inplace=True)\n",
    "df_group"
   ]
  },
  {
   "cell_type": "code",
   "execution_count": 55,
   "metadata": {},
   "outputs": [
    {
     "data": {
      "image/png": "[encoded data removed]",
      "text/plain": [
       "<Figure size 648x288 with 1 Axes>"
      ]
     },
     "metadata": {
      "needs_background": "light"
     },
     "output_type": "display_data"
    }
   ],
   "source": [
    "# Tracé du graphe y relatif\n",
    "df_group.plot(kind='bar', figsize=(9, 4));\n",
    "labelGraph(\"Taux d'absence aux rendez-vous en fonction de l'aide sociale\",\n",
    "          'Aide sociale',\n",
    "          \"Taux d'absence\")\n",
    "#plt.title('Taux d\\'absence aux rendez-vous en fonction de l\\'aide sociale');\n",
    "#plt.xlabel('Aide sociale')\n",
    "#plt.xticks(rotation='horizontal')\n",
    "#plt.ylabel('Taux d\\'absence');"
   ]
  },
  {
   "cell_type": "markdown",
   "metadata": {},
   "source": [
    "Il ressort que :\n",
    "- __19.68%__ des rendez-vous pris par les personnes __non bénéficiaires__ de l'aide sociale ne sont souvent pas respectés\n",
    "- __23.57%__ des rendez-vous pris par les personnes __bénéficiaires__ de l'aide sociale ne sont souvent pas respectés"
   ]
  },
  {
   "cell_type": "markdown",
   "metadata": {},
   "source": [
    "<a id='q4'></a>\n",
    "### Les répartitions des rendez-vous médicaux dans la semaine ont-ils un impact sur les absences des patients ?"
   ]
  },
  {
   "cell_type": "code",
   "execution_count": 56,
   "metadata": {},
   "outputs": [],
   "source": [
    "# Extraction du jour de la semaine à partir de la date Appointment_Day\n",
    "# 0 -> Lundi\n",
    "# 1 -> Mardi\n",
    "# 2 -> Mercredi\n",
    "# 3 -> Jeudi\n",
    "# 4 -> Vendredi\n",
    "# 5 -> Samedi\n",
    "# 6 -> Dimanche\n",
    "\n",
    "df['day_of_week'] = df.appointment_day.dt.dayofweek"
   ]
  },
  {
   "cell_type": "code",
   "execution_count": 57,
   "metadata": {},
   "outputs": [
    {
     "data": {
      "text/html": [
       "<div>\n",
       "<style scoped>\n",
       "    .dataframe tbody tr th:only-of-type {\n",
       "        vertical-align: middle;\n",
       "    }\n",
       "\n",
       "    .dataframe tbody tr th {\n",
       "        vertical-align: top;\n",
       "    }\n",
       "\n",
       "    .dataframe thead th {\n",
       "        text-align: right;\n",
       "    }\n",
       "</style>\n",
       "<table border=\"1\" class=\"dataframe\">\n",
       "  <thead>\n",
       "    <tr style=\"text-align: right;\">\n",
       "      <th></th>\n",
       "      <th>patient_id</th>\n",
       "      <th>gender</th>\n",
       "      <th>scheduled_day</th>\n",
       "      <th>appointment_day</th>\n",
       "      <th>age</th>\n",
       "      <th>neighbourhood</th>\n",
       "      <th>scholarship</th>\n",
       "      <th>hypertension</th>\n",
       "      <th>diabetes</th>\n",
       "      <th>alcoholism</th>\n",
       "      <th>sms_received</th>\n",
       "      <th>no_show</th>\n",
       "      <th>age_group</th>\n",
       "      <th>sick</th>\n",
       "      <th>day_of_week</th>\n",
       "    </tr>\n",
       "  </thead>\n",
       "  <tbody>\n",
       "    <tr>\n",
       "      <th>98430</th>\n",
       "      <td>2.174593e+14</td>\n",
       "      <td>F</td>\n",
       "      <td>2016-05-10 12:38:47+00:00</td>\n",
       "      <td>2016-06-02 00:00:00+00:00</td>\n",
       "      <td>63</td>\n",
       "      <td>JARDIM DA PENHA</td>\n",
       "      <td>0</td>\n",
       "      <td>0</td>\n",
       "      <td>0</td>\n",
       "      <td>0</td>\n",
       "      <td>1</td>\n",
       "      <td>0</td>\n",
       "      <td>Vieux</td>\n",
       "      <td>0</td>\n",
       "      <td>3</td>\n",
       "    </tr>\n",
       "  </tbody>\n",
       "</table>\n",
       "</div>"
      ],
      "text/plain": [
       "         patient_id gender             scheduled_day  \\\n",
       "98430  2.174593e+14      F 2016-05-10 12:38:47+00:00   \n",
       "\n",
       "                appointment_day  age    neighbourhood  scholarship  \\\n",
       "98430 2016-06-02 00:00:00+00:00   63  JARDIM DA PENHA            0   \n",
       "\n",
       "       hypertension  diabetes  alcoholism  sms_received  no_show age_group  \\\n",
       "98430             0         0           0             1        0     Vieux   \n",
       "\n",
       "       sick  day_of_week  \n",
       "98430     0            3  "
      ]
     },
     "execution_count": 57,
     "metadata": {},
     "output_type": "execute_result"
    }
   ],
   "source": [
    "df.sample()"
   ]
  },
  {
   "cell_type": "code",
   "execution_count": 58,
   "metadata": {},
   "outputs": [
    {
     "data": {
      "text/plain": [
       "day_of_week\n",
       "0    20898\n",
       "1    23737\n",
       "2    23790\n",
       "3    16012\n",
       "4    17332\n",
       "5       38\n",
       "Name: patient_id, dtype: int64"
      ]
     },
     "execution_count": 58,
     "metadata": {},
     "output_type": "execute_result"
    }
   ],
   "source": [
    "# Nombre de rendez-vous en fonction des jours de la semaine\n",
    "\n",
    "df.groupby('day_of_week').patient_id.count()"
   ]
  },
  {
   "cell_type": "markdown",
   "metadata": {},
   "source": [
    "- Aucun rendez-vous n'est pris la journée du Dimanche\n",
    "- Seulement __38__ rendez-vous ont été pris pour la journée du __samedi__. L'exploitation de cette valeur pourrait fausser les résultats, elle sera exclue de notre étude."
   ]
  },
  {
   "cell_type": "code",
   "execution_count": 59,
   "metadata": {},
   "outputs": [
    {
     "data": {
      "text/plain": [
       "day_of_week\n",
       "Lundi       20.729256\n",
       "Mardi       19.800312\n",
       "Mercredi    19.495586\n",
       "Jeudi       19.241819\n",
       "Vendredi    21.140088\n",
       "Name: no_show, dtype: float64"
      ]
     },
     "execution_count": 59,
     "metadata": {},
     "output_type": "execute_result"
    }
   ],
   "source": [
    "# Taux d'absence aux rendez-vous en fonction du jour de la semaine\n",
    "df_group = 100 * df[no_show].groupby('day_of_week').no_show.count() / df.groupby('day_of_week').no_show.count()\n",
    "\n",
    "# Exclusion de la journée du Samedi\n",
    "df_group.drop(5, inplace=True)\n",
    "\n",
    "# Renommage des clé pour une meilleure lecture des résultats\n",
    "df_group.rename({0: 'Lundi',\n",
    "                1 : 'Mardi',\n",
    "                2 : 'Mercredi',\n",
    "                3 : 'Jeudi',\n",
    "                4 : 'Vendredi'}, inplace=True)\n",
    "df_group"
   ]
  },
  {
   "cell_type": "code",
   "execution_count": 60,
   "metadata": {},
   "outputs": [
    {
     "data": {
      "image/png": "[encoded data removed]",
      "text/plain": [
       "<Figure size 648x288 with 1 Axes>"
      ]
     },
     "metadata": {
      "needs_background": "light"
     },
     "output_type": "display_data"
    }
   ],
   "source": [
    "# Tracé du graphe y relatif\n",
    "\n",
    "df_group.plot(kind='bar', figsize=(9, 4));\n",
    "labelGraph(\"Taux d'absence aux rendez-vous en fonction du jour de la semaine\",\n",
    "          'Jour de la semaine',\n",
    "          \"Taux d'absence\")\n",
    "#plt.title('Taux d\\'absence aux rendez-vous en fonction du jour de la semaine');\n",
    "#plt.xlabel('Jour de la semaine')\n",
    "#plt.xticks(rotation='horizontal')\n",
    "#plt.ylabel('Taux d\\'absence');"
   ]
  },
  {
   "cell_type": "markdown",
   "metadata": {},
   "source": [
    "Il ressort que les taux d'absence aux rendez-vous médicaux sont répartis par jour de la semaine comme suit :\n",
    "- __20.73%__ les __lundis__\n",
    "- __19.80%__ les __mardis__\n",
    "- __19.50%__ les __mercredis__\n",
    "- __19.24%__ les __jeudis__\n",
    "- __21.14%__ les __vendredis__"
   ]
  },
  {
   "cell_type": "markdown",
   "metadata": {},
   "source": [
    "<a id='q5'></a>\n",
    "### Quelles sont les principales zones géographiques où les patients sont plus susceptibles de manquer leur rendez-vous médical ?"
   ]
  },
  {
   "cell_type": "markdown",
   "metadata": {},
   "source": [
    "#### Exploration du paramètre Neigbourhood"
   ]
  },
  {
   "cell_type": "code",
   "execution_count": 61,
   "metadata": {},
   "outputs": [
    {
     "data": {
      "text/plain": [
       "PARQUE INDUSTRIAL                 1\n",
       "ILHAS OCEÂNICAS DE TRINDADE       2\n",
       "AEROPORTO                         8\n",
       "ILHA DO FRADE                    10\n",
       "ILHA DO BOI                      35\n",
       "                               ... \n",
       "ITARARÉ                        3226\n",
       "JARDIM DA PENHA                3587\n",
       "RESISTÊNCIA                    4026\n",
       "MARIA ORTIZ                    5464\n",
       "JARDIM CAMBURI                 6978\n",
       "Name: neighbourhood, Length: 81, dtype: int64"
      ]
     },
     "execution_count": 61,
     "metadata": {},
     "output_type": "execute_result"
    }
   ],
   "source": [
    "# Évaluation du nombre de répétitions des régions dans notre ensemble de données\n",
    "\n",
    "df_count = df.neighbourhood.value_counts().sort_values()\n",
    "df_count"
   ]
  },
  {
   "cell_type": "code",
   "execution_count": 62,
   "metadata": {},
   "outputs": [
    {
     "data": {
      "text/plain": [
       "count      81.000000\n",
       "mean     1256.876543\n",
       "std      1255.862526\n",
       "min         1.000000\n",
       "25%       373.000000\n",
       "50%       800.000000\n",
       "75%      1881.000000\n",
       "max      6978.000000\n",
       "Name: neighbourhood, dtype: float64"
      ]
     },
     "execution_count": 62,
     "metadata": {},
     "output_type": "execute_result"
    }
   ],
   "source": [
    "# Identification des valeurs clés relatives aux différentes régions\n",
    "\n",
    "df_count.describe()"
   ]
  },
  {
   "cell_type": "markdown",
   "metadata": {},
   "source": [
    "Nous constatons que sur les 81 zones faisant partie de notre étude, certaines sont plus répétées que d'autres.\n",
    "\n",
    "Afin d'assainir les données avant un traitement, nous allons éliminer tous les enregistrements des régions pour lesquelles nous n'avons pas assez de données.\n",
    "\n",
    "Nous prendrons comme référence d'élimination le 25e percentile i.e. __373__."
   ]
  },
  {
   "cell_type": "code",
   "execution_count": 63,
   "metadata": {},
   "outputs": [],
   "source": [
    "# Détermination de la liste des régions pour lesquelles le nombre total d'entrées est supérieur ou égal à 373\n",
    "\n",
    "liste = df_count[df_count >= 373].index"
   ]
  },
  {
   "cell_type": "code",
   "execution_count": 64,
   "metadata": {},
   "outputs": [
    {
     "data": {
      "text/plain": [
       "SANTOS DUMONT        28.511354\n",
       "SANTA CECÍLIA        27.338129\n",
       "SANTA CLARA          25.701944\n",
       "ITARARÉ              25.604464\n",
       "JESUS DE NAZARETH    24.526874\n",
       "                       ...    \n",
       "VILA RUBIM           16.313823\n",
       "SANTA MARTHA         15.609408\n",
       "DO QUADRO            15.491184\n",
       "DO CABRAL            15.458015\n",
       "SOLON BORGES         15.178571\n",
       "Name: no_show, Length: 61, dtype: float64"
      ]
     },
     "execution_count": 64,
     "metadata": {},
     "output_type": "execute_result"
    }
   ],
   "source": [
    "# Taux d'absence aux rendez-vous en fonction des zones géographiques\n",
    "\n",
    "df_group = 100 * df[no_show].groupby('neighbourhood').no_show.count() / df.groupby('neighbourhood').no_show.count()\n",
    "\n",
    "# Filtrage de toutes les entrées (régions) pour lesquelles le nombre d'enregistrement total est supérieur ou égal à 373\n",
    "\n",
    "df_short = df_group[liste].sort_values(ascending=False)\n",
    "df_short"
   ]
  },
  {
   "cell_type": "code",
   "execution_count": 65,
   "metadata": {},
   "outputs": [
    {
     "data": {
      "image/png": "[encoded data removed]",
      "text/plain": [
       "<Figure size 1296x432 with 1 Axes>"
      ]
     },
     "metadata": {
      "needs_background": "light"
     },
     "output_type": "display_data"
    }
   ],
   "source": [
    "# Tracé du graphe y relatif \n",
    "\n",
    "df_short.plot(kind='bar', figsize=(18, 6));\n",
    "labelGraph(\"Taux d'absence aux rendez-vous en fonction des régions\",\n",
    "          'Région',\n",
    "          \"Taux d'absence\",\n",
    "          'vertical')\n",
    "#plt.title('Taux d\\'absence aux rendez-vous en fonction des régions');\n",
    "#plt.xlabel('Région')\n",
    "#plt.ylabel('Taux d\\'absence');"
   ]
  },
  {
   "cell_type": "markdown",
   "metadata": {},
   "source": [
    "Il ressort les 5 principales régions dans lesquels les patients sont susceptibles de s'absenter de leur rendez-vous sont :\n",
    "- __SANTOS DUMONT__ avec un taux d'absence de __28.51%__\n",
    "- __SANTA CECÍLIA__ avec un taux d'absence de __27.34%__\n",
    "- __SANTA CLARA__ avec un taux d'absence de __25.70%__\n",
    "- __ITARARÉ__ avec un taux d'absence de __25.60%__\n",
    "- __JESUS DE NAZARETH__ avec un taux d'absence de __24.53%__"
   ]
  },
  {
   "cell_type": "markdown",
   "metadata": {},
   "source": [
    "<a id='conclusions'></a>\n",
    "## Conclusions\n",
    "\n",
    "### Résultats obtenus\n",
    "\n",
    "Arrivé au terme de notre analyse nous pouvons conclure les éléments suivants concernant les paramètres des patients :\n",
    "- Les vieux patients, __agés de plus de 56 ans__, ont tendance à __mieux respecter__ leurs rendez-vous médicaux. Les adultes et les plus jeunes ont un taux d'absence aux rendez-vous beaucoup plus élevé. ([↑](#q1_age))\n",
    "- Les __Femmes__ ont légèrement tendance à __plus manquer__ aux rendez-vous __que les Hommes__. On ne peut pas se fier de façon objective à ce paramètre ([↑](#q1_gender))\n",
    "- Les patients ne présentant __aucune pathologie__ ont tendance à __manquer plus__ de rendez-vous que les __malades__. ([↑](#q1_pathology))\n",
    "- Les patients __alcooliques__ ont tendance à __manquer plus__ de rendez-vous que les __non-alcooliques__. ([↑](#q1_alcohol))\n",
    "\n",
    "De ce fait nous pouvons retenir que, __le jeune âge des patient, l'absence de pathologies et les tendances alcooliques__ ont un __effet négatif__ sur le respect des rendez-vous médicaux. __Il est donc prévisible d'anticiper sur l'absence des patients à l'aide de ces paramètres__.\n",
    "\n",
    "Par ailleurs :\n",
    "- __L'envoi des SMS__ aux patients __n'est pas efficace__. Cela a un __effet négatif__ sur le respect des rendez-vous. Il faudrait une analyse plus détaillée pour identifier la raison exacte de cette contre performance, notre ensemble de données ne dispose pas d'assez d'informations pour cela. ([↑](#q2))\n",
    "- On peut dire que les patients bénéficiant de l'aide sociale __Bolsa Famìlia ne prennent pas vraiment leur aide au serieux__. Ils ont tendance à beaucoup plus manquer à leur rendez-vous que ceux qui n'en bénéficie pas. Par ailleurs, notre ensemble de données ne permet pas d'identifier la raison exacte de leur manquement. ([↑](#q3))\n",
    "- Les jours de __Lundi__ et de __Vendredi__ ont été identifiés comme ceux pendant lesquels __les patients manquent le plus__ à leurs rendez-vous. Cela est probablement dû à la reprise du boulot en début de semaine et au départ en weekend les vendredis. Toutefois, notre ensemble de données ne permet pas de tirer une conclusion là dessus. ([↑](#q4))\n",
    "- Les __5 principales régions__ dans lesquelles les patients ont tendance à plus s'absenter à leurs rendez-vous sont __SANTOS DUMONT, SANTA CECÍLIA, SANTA CLARA, ITARARÉ, JESUS DE NAZARETH__. ([↑](#q5))\n",
    "\n",
    "### Limites observées\n",
    "\n",
    "Quelques problèmes ont été observés dans notre ensemble de données pendant notre analyse :\n",
    "- Plusieurs doublons ont été détectés dans la série, certains patients se sont enregistrés plusieurs fois  avec le même identifiant de patient pour une même date de rendez-vous. Ces données ont dû être éliminées avant de démarrer l'analyse. Toutefois, cela n'a pas d'impact négatif sur notre analyse.\n",
    "- Le paramètre __Handicap__ n'a pas été exploité en raison de sa nature qui n'était pas compréhensible. Son inclusion aurait peut-être modifié le résultat de notre analyse sur les pathologies des patients.\n",
    "- Au cours de l'analyse sur les régions, nous avons exclu toutes les régions pour lesquelles il y avait moins de 373 entrées (25e percentile) dans notre ensemble de données. La modification de cette limite pourrait faire ressortir de nouvelles régions.\n",
    "- Une entrée pour laquelle un patient féminin était âgé de __-1 an__ a été supprimée. Cela pourrait correspondre à une femme enceinte et le renseignement de l'âge exact de la mère (au lieu de -1 an) aurait été plus interessant pour notre étude. "
   ]
  },
  {
   "cell_type": "code",
   "execution_count": null,
   "metadata": {},
   "outputs": [],
   "source": []
  }
 ],
 "metadata": {
  "kernelspec": {
   "display_name": "Python 3 (ipykernel)",
   "language": "python",
   "name": "python3"
  },
  "language_info": {
   "codemirror_mode": {
    "name": "ipython",
    "version": 3
   },
   "file_extension": ".py",
   "mimetype": "text/x-python",
   "name": "python",
   "nbconvert_exporter": "python",
   "pygments_lexer": "ipython3",
   "version": "3.9.12"
  }
 },
 "nbformat": 4,
 "nbformat_minor": 2
}
